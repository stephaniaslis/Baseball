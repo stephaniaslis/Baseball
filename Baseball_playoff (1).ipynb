{
 "cells": [
  {
   "cell_type": "markdown",
   "metadata": {},
   "source": [
    "# Previsão para playoff em Baseball"
   ]
  },
  {
   "cell_type": "code",
   "execution_count": 3,
   "metadata": {
    "colab": {
     "base_uri": "https://localhost:8080/"
    },
    "id": "laABEjRUIXs4",
    "outputId": "be5dae4d-c738-42e3-cb85-57351e6a612d"
   },
   "outputs": [],
   "source": [
    "import pandas as pd\n",
    "import numpy as np\n",
    "import seaborn as sns\n",
    "import matplotlib.pyplot as plt\n",
    "#from sklearn.model_selection import train_test_split\n",
    "import statsmodels.api as sm\n",
    "import scipy\n",
    "#from statsmodels.graphics.gofplots import qqplot\n",
    "from statsmodels.stats.outliers_influence import variance_inflation_factor \n",
    "from sklearn.metrics import r2_score, mean_squared_error\n",
    "from scipy import stats\n",
    "from math import sqrt\n",
    "\n",
    "# modelo\n",
    "import statsmodels.formula.api as smf\n",
    "# métricas\n",
    "from sklearn.metrics import accuracy_score, recall_score, precision_score, classification_report\n",
    "# modelo de regressão logistica do sklearn\n",
    "from sklearn.linear_model import LogisticRegression\n",
    "# curva roc\n",
    "from sklearn.metrics import roc_curve\n",
    "# area embaixa do curva roc\n",
    "from sklearn.metrics import roc_auc_score\n",
    "# função para montar confusion matrix\n",
    "from sklearn.metrics import confusion_matrix\n",
    "# plotar confusion matrix\n",
    "from sklearn.metrics import plot_confusion_matrix\n"
   ]
  },
  {
   "cell_type": "markdown",
   "metadata": {
    "id": "XxDzMM4SQ1vU"
   },
   "source": [
    "Vamos usar o [dataset de baseball](https://raw.githubusercontent.com/abnr/ml-data/main/baseball.csv) para tentar prever quem vai para playoff da temporada. Esse dataset é composto pelas variáveis:\n",
    "\n",
    "* Team: O código para o nome do time.\n",
    "* League: A liga que o time pertence, pode ser AL ou NL\n",
    "* Year: Ano do registro\n",
    "* RS: o número de runs do time no ano.\n",
    "* RA: O número de runs permitidos pelo time no ano.\n",
    "* W: O número de vitórias na temporada \n",
    "* OBP: A porcentagem de 'on-base' \n",
    "* SLG: A slugging percentage do time no ano\n",
    "* BA: A batting average do time no ano\n",
    "* Playoffs: Se o time foi ou não para os playoffs\n",
    "* RankSeason: Entre os times no playoff o rank final dele no ano.\n",
    "* RankPlayoffs: O rank do time no playoff. O campeão tem rank 1.\n",
    "* G: O número de partidas jogadas no ano.\n",
    "* OOBP: A porcentagem de 'on-base' dos oponentes do ano.\n",
    "* OSLG: A slugging percentage dos oponentes no ano.\n"
   ]
  },
  {
   "cell_type": "code",
   "execution_count": 4,
   "metadata": {
    "id": "VlRMIGHVJG_A"
   },
   "outputs": [],
   "source": [
    "df_base = pd.read_csv('https://raw.githubusercontent.com/abnr/ml-data/main/baseball.csv')\n",
    "df_base.sort_values(by = 'Year', inplace= True)\n",
    "#A partir de 1903, as duas ligas cooperaram uma com a outra, mas permaneceram entidades legalmente separadas até 2000, quando se fundiram em uma única organização liderada pelo Comissário do Beisebol.\n",
    "#df_base = df_base.loc[df_base['League'] == 'NL']"
   ]
  },
  {
   "cell_type": "code",
   "execution_count": 5,
   "metadata": {
    "colab": {
     "base_uri": "https://localhost:8080/",
     "height": 420
    },
    "id": "vWZ31pZ9IbSY",
    "outputId": "4f034784-7444-40fd-f529-ef04507615c1"
   },
   "outputs": [
    {
     "data": {
      "text/html": [
       "<div>\n",
       "<style scoped>\n",
       "    .dataframe tbody tr th:only-of-type {\n",
       "        vertical-align: middle;\n",
       "    }\n",
       "\n",
       "    .dataframe tbody tr th {\n",
       "        vertical-align: top;\n",
       "    }\n",
       "\n",
       "    .dataframe thead th {\n",
       "        text-align: right;\n",
       "    }\n",
       "</style>\n",
       "<table border=\"1\" class=\"dataframe\">\n",
       "  <thead>\n",
       "    <tr style=\"text-align: right;\">\n",
       "      <th></th>\n",
       "      <th>Team</th>\n",
       "      <th>League</th>\n",
       "      <th>Year</th>\n",
       "      <th>RS</th>\n",
       "      <th>RA</th>\n",
       "      <th>W</th>\n",
       "      <th>OBP</th>\n",
       "      <th>SLG</th>\n",
       "      <th>BA</th>\n",
       "      <th>Playoffs</th>\n",
       "      <th>RankSeason</th>\n",
       "      <th>RankPlayoffs</th>\n",
       "      <th>G</th>\n",
       "      <th>OOBP</th>\n",
       "      <th>OSLG</th>\n",
       "    </tr>\n",
       "  </thead>\n",
       "  <tbody>\n",
       "    <tr>\n",
       "      <th>1231</th>\n",
       "      <td>WSA</td>\n",
       "      <td>AL</td>\n",
       "      <td>1962</td>\n",
       "      <td>599</td>\n",
       "      <td>716</td>\n",
       "      <td>60</td>\n",
       "      <td>0.308</td>\n",
       "      <td>0.373</td>\n",
       "      <td>0.250</td>\n",
       "      <td>0</td>\n",
       "      <td>NaN</td>\n",
       "      <td>NaN</td>\n",
       "      <td>162</td>\n",
       "      <td>NaN</td>\n",
       "      <td>NaN</td>\n",
       "    </tr>\n",
       "    <tr>\n",
       "      <th>1212</th>\n",
       "      <td>BAL</td>\n",
       "      <td>AL</td>\n",
       "      <td>1962</td>\n",
       "      <td>652</td>\n",
       "      <td>680</td>\n",
       "      <td>77</td>\n",
       "      <td>0.314</td>\n",
       "      <td>0.387</td>\n",
       "      <td>0.248</td>\n",
       "      <td>0</td>\n",
       "      <td>NaN</td>\n",
       "      <td>NaN</td>\n",
       "      <td>162</td>\n",
       "      <td>NaN</td>\n",
       "      <td>NaN</td>\n",
       "    </tr>\n",
       "    <tr>\n",
       "      <th>1213</th>\n",
       "      <td>BOS</td>\n",
       "      <td>AL</td>\n",
       "      <td>1962</td>\n",
       "      <td>707</td>\n",
       "      <td>756</td>\n",
       "      <td>76</td>\n",
       "      <td>0.324</td>\n",
       "      <td>0.403</td>\n",
       "      <td>0.258</td>\n",
       "      <td>0</td>\n",
       "      <td>NaN</td>\n",
       "      <td>NaN</td>\n",
       "      <td>160</td>\n",
       "      <td>NaN</td>\n",
       "      <td>NaN</td>\n",
       "    </tr>\n",
       "    <tr>\n",
       "      <th>1214</th>\n",
       "      <td>CHC</td>\n",
       "      <td>NL</td>\n",
       "      <td>1962</td>\n",
       "      <td>632</td>\n",
       "      <td>827</td>\n",
       "      <td>59</td>\n",
       "      <td>0.317</td>\n",
       "      <td>0.377</td>\n",
       "      <td>0.253</td>\n",
       "      <td>0</td>\n",
       "      <td>NaN</td>\n",
       "      <td>NaN</td>\n",
       "      <td>162</td>\n",
       "      <td>NaN</td>\n",
       "      <td>NaN</td>\n",
       "    </tr>\n",
       "    <tr>\n",
       "      <th>1215</th>\n",
       "      <td>CHW</td>\n",
       "      <td>AL</td>\n",
       "      <td>1962</td>\n",
       "      <td>707</td>\n",
       "      <td>658</td>\n",
       "      <td>85</td>\n",
       "      <td>0.334</td>\n",
       "      <td>0.372</td>\n",
       "      <td>0.257</td>\n",
       "      <td>0</td>\n",
       "      <td>NaN</td>\n",
       "      <td>NaN</td>\n",
       "      <td>162</td>\n",
       "      <td>NaN</td>\n",
       "      <td>NaN</td>\n",
       "    </tr>\n",
       "    <tr>\n",
       "      <th>...</th>\n",
       "      <td>...</td>\n",
       "      <td>...</td>\n",
       "      <td>...</td>\n",
       "      <td>...</td>\n",
       "      <td>...</td>\n",
       "      <td>...</td>\n",
       "      <td>...</td>\n",
       "      <td>...</td>\n",
       "      <td>...</td>\n",
       "      <td>...</td>\n",
       "      <td>...</td>\n",
       "      <td>...</td>\n",
       "      <td>...</td>\n",
       "      <td>...</td>\n",
       "      <td>...</td>\n",
       "    </tr>\n",
       "    <tr>\n",
       "      <th>27</th>\n",
       "      <td>TEX</td>\n",
       "      <td>AL</td>\n",
       "      <td>2012</td>\n",
       "      <td>808</td>\n",
       "      <td>707</td>\n",
       "      <td>93</td>\n",
       "      <td>0.334</td>\n",
       "      <td>0.446</td>\n",
       "      <td>0.273</td>\n",
       "      <td>1</td>\n",
       "      <td>5.0</td>\n",
       "      <td>5.0</td>\n",
       "      <td>162</td>\n",
       "      <td>0.309</td>\n",
       "      <td>0.408</td>\n",
       "    </tr>\n",
       "    <tr>\n",
       "      <th>28</th>\n",
       "      <td>TOR</td>\n",
       "      <td>AL</td>\n",
       "      <td>2012</td>\n",
       "      <td>716</td>\n",
       "      <td>784</td>\n",
       "      <td>73</td>\n",
       "      <td>0.309</td>\n",
       "      <td>0.407</td>\n",
       "      <td>0.245</td>\n",
       "      <td>0</td>\n",
       "      <td>NaN</td>\n",
       "      <td>NaN</td>\n",
       "      <td>162</td>\n",
       "      <td>0.335</td>\n",
       "      <td>0.438</td>\n",
       "    </tr>\n",
       "    <tr>\n",
       "      <th>29</th>\n",
       "      <td>WSN</td>\n",
       "      <td>NL</td>\n",
       "      <td>2012</td>\n",
       "      <td>731</td>\n",
       "      <td>594</td>\n",
       "      <td>98</td>\n",
       "      <td>0.322</td>\n",
       "      <td>0.428</td>\n",
       "      <td>0.261</td>\n",
       "      <td>1</td>\n",
       "      <td>1.0</td>\n",
       "      <td>4.0</td>\n",
       "      <td>162</td>\n",
       "      <td>0.303</td>\n",
       "      <td>0.373</td>\n",
       "    </tr>\n",
       "    <tr>\n",
       "      <th>15</th>\n",
       "      <td>MIL</td>\n",
       "      <td>NL</td>\n",
       "      <td>2012</td>\n",
       "      <td>776</td>\n",
       "      <td>733</td>\n",
       "      <td>83</td>\n",
       "      <td>0.325</td>\n",
       "      <td>0.437</td>\n",
       "      <td>0.259</td>\n",
       "      <td>0</td>\n",
       "      <td>NaN</td>\n",
       "      <td>NaN</td>\n",
       "      <td>162</td>\n",
       "      <td>0.326</td>\n",
       "      <td>0.414</td>\n",
       "    </tr>\n",
       "    <tr>\n",
       "      <th>0</th>\n",
       "      <td>ARI</td>\n",
       "      <td>NL</td>\n",
       "      <td>2012</td>\n",
       "      <td>734</td>\n",
       "      <td>688</td>\n",
       "      <td>81</td>\n",
       "      <td>0.328</td>\n",
       "      <td>0.418</td>\n",
       "      <td>0.259</td>\n",
       "      <td>0</td>\n",
       "      <td>NaN</td>\n",
       "      <td>NaN</td>\n",
       "      <td>162</td>\n",
       "      <td>0.317</td>\n",
       "      <td>0.415</td>\n",
       "    </tr>\n",
       "  </tbody>\n",
       "</table>\n",
       "<p>1232 rows × 15 columns</p>\n",
       "</div>"
      ],
      "text/plain": [
       "     Team League  Year   RS   RA   W    OBP    SLG     BA  Playoffs  \\\n",
       "1231  WSA     AL  1962  599  716  60  0.308  0.373  0.250         0   \n",
       "1212  BAL     AL  1962  652  680  77  0.314  0.387  0.248         0   \n",
       "1213  BOS     AL  1962  707  756  76  0.324  0.403  0.258         0   \n",
       "1214  CHC     NL  1962  632  827  59  0.317  0.377  0.253         0   \n",
       "1215  CHW     AL  1962  707  658  85  0.334  0.372  0.257         0   \n",
       "...   ...    ...   ...  ...  ...  ..    ...    ...    ...       ...   \n",
       "27    TEX     AL  2012  808  707  93  0.334  0.446  0.273         1   \n",
       "28    TOR     AL  2012  716  784  73  0.309  0.407  0.245         0   \n",
       "29    WSN     NL  2012  731  594  98  0.322  0.428  0.261         1   \n",
       "15    MIL     NL  2012  776  733  83  0.325  0.437  0.259         0   \n",
       "0     ARI     NL  2012  734  688  81  0.328  0.418  0.259         0   \n",
       "\n",
       "      RankSeason  RankPlayoffs    G   OOBP   OSLG  \n",
       "1231         NaN           NaN  162    NaN    NaN  \n",
       "1212         NaN           NaN  162    NaN    NaN  \n",
       "1213         NaN           NaN  160    NaN    NaN  \n",
       "1214         NaN           NaN  162    NaN    NaN  \n",
       "1215         NaN           NaN  162    NaN    NaN  \n",
       "...          ...           ...  ...    ...    ...  \n",
       "27           5.0           5.0  162  0.309  0.408  \n",
       "28           NaN           NaN  162  0.335  0.438  \n",
       "29           1.0           4.0  162  0.303  0.373  \n",
       "15           NaN           NaN  162  0.326  0.414  \n",
       "0            NaN           NaN  162  0.317  0.415  \n",
       "\n",
       "[1232 rows x 15 columns]"
      ]
     },
     "execution_count": 5,
     "metadata": {},
     "output_type": "execute_result"
    }
   ],
   "source": [
    "df_base"
   ]
  },
  {
   "cell_type": "code",
   "execution_count": 6,
   "metadata": {
    "id": "484qKa8OIbfs"
   },
   "outputs": [],
   "source": [
    "#Dummies de liga\n",
    "df_base = pd.get_dummies(df_base, columns = ['League'], drop_first= True)\n"
   ]
  },
  {
   "cell_type": "code",
   "execution_count": 7,
   "metadata": {
    "colab": {
     "base_uri": "https://localhost:8080/"
    },
    "id": "fI5amlIrW4BF",
    "outputId": "701c7fc5-d258-4078-9bf1-f5dc258be9fb"
   },
   "outputs": [
    {
     "name": "stdout",
     "output_type": "stream",
     "text": [
      "<class 'pandas.core.frame.DataFrame'>\n",
      "Int64Index: 1232 entries, 1231 to 0\n",
      "Data columns (total 15 columns):\n",
      " #   Column        Non-Null Count  Dtype  \n",
      "---  ------        --------------  -----  \n",
      " 0   Team          1232 non-null   object \n",
      " 1   Year          1232 non-null   int64  \n",
      " 2   RS            1232 non-null   int64  \n",
      " 3   RA            1232 non-null   int64  \n",
      " 4   W             1232 non-null   int64  \n",
      " 5   OBP           1232 non-null   float64\n",
      " 6   SLG           1232 non-null   float64\n",
      " 7   BA            1232 non-null   float64\n",
      " 8   Playoffs      1232 non-null   int64  \n",
      " 9   RankSeason    244 non-null    float64\n",
      " 10  RankPlayoffs  244 non-null    float64\n",
      " 11  G             1232 non-null   int64  \n",
      " 12  OOBP          420 non-null    float64\n",
      " 13  OSLG          420 non-null    float64\n",
      " 14  League_NL     1232 non-null   uint8  \n",
      "dtypes: float64(7), int64(6), object(1), uint8(1)\n",
      "memory usage: 145.6+ KB\n"
     ]
    }
   ],
   "source": [
    "df_base.info()"
   ]
  },
  {
   "cell_type": "code",
   "execution_count": 8,
   "metadata": {
    "colab": {
     "base_uri": "https://localhost:8080/"
    },
    "id": "E5VUos-i-kVR",
    "outputId": "0ecd0229-9125-4ea9-eb18-b8f2ff08bc80"
   },
   "outputs": [
    {
     "data": {
      "text/plain": [
       "count    1232.000000\n",
       "mean        0.499638\n",
       "std         0.070607\n",
       "min         0.248447\n",
       "25%         0.450617\n",
       "50%         0.500000\n",
       "75%         0.549383\n",
       "max         0.716049\n",
       "Name: W_norm, dtype: float64"
      ]
     },
     "execution_count": 8,
     "metadata": {},
     "output_type": "execute_result"
    }
   ],
   "source": [
    "#Normalizando a variável Winner em relação a Game\n",
    "df_base['W_norm'] = df_base['W'] / df_base['G']\n",
    "df_base.drop(['Team', 'W', 'G'], axis = 1, inplace = True)\n",
    "df_base['W_norm'].describe()\n",
    "# não é 1 porque pode ser q o campeão perdeu algum jogo nas primeiras fases"
   ]
  },
  {
   "cell_type": "code",
   "execution_count": 9,
   "metadata": {
    "colab": {
     "base_uri": "https://localhost:8080/",
     "height": 557
    },
    "id": "xF5HE9BbJhL5",
    "outputId": "0289a9e0-cdb4-49a7-df7a-b043d81d0553"
   },
   "outputs": [
    {
     "data": {
      "image/png": "[encoded data removed]",
      "text/plain": [
       "<Figure size 720x576 with 2 Axes>"
      ]
     },
     "metadata": {
      "needs_background": "light"
     },
     "output_type": "display_data"
    },
    {
     "data": {
      "text/plain": [
       "1962"
      ]
     },
     "execution_count": 9,
     "metadata": {},
     "output_type": "execute_result"
    }
   ],
   "source": [
    "plt.figure(figsize=(10,8))\n",
    "sns.heatmap(df_base.drop(['Playoffs'], axis=1).corr(), annot=True)\n",
    "plt.show()\n",
    "df_base['Year'].min()"
   ]
  },
  {
   "cell_type": "code",
   "execution_count": 10,
   "metadata": {
    "colab": {
     "base_uri": "https://localhost:8080/",
     "height": 488
    },
    "id": "LZtrXde8Cupk",
    "outputId": "f019191b-e6c5-44b8-bbac-8e741c163354"
   },
   "outputs": [
    {
     "data": {
      "image/png": "[encoded data removed]",
      "text/plain": [
       "<Figure size 720x576 with 2 Axes>"
      ]
     },
     "metadata": {
      "needs_background": "light"
     },
     "output_type": "display_data"
    }
   ],
   "source": [
    "df_base.drop(['OSLG', 'OOBP', 'BA', 'SLG', 'OBP'], axis = 1, inplace = True) #tem alta correlação\n",
    "plt.figure(figsize=(10,8))\n",
    "sns.heatmap(df_base.drop(['Playoffs'], axis=1).corr(), annot=True)\n",
    "plt.show()"
   ]
  },
  {
   "cell_type": "code",
   "execution_count": 11,
   "metadata": {
    "colab": {
     "base_uri": "https://localhost:8080/"
    },
    "id": "YCI2Nh5adXsc",
    "outputId": "3a9d8d2e-3b4e-4483-b4fc-dec45ba11538"
   },
   "outputs": [
    {
     "data": {
      "text/plain": [
       "array([nan,  1.,  2.,  4.,  3.,  6.,  5.,  7.,  8.])"
      ]
     },
     "execution_count": 11,
     "metadata": {},
     "output_type": "execute_result"
    }
   ],
   "source": [
    "df_base['RankSeason'].unique()"
   ]
  },
  {
   "cell_type": "code",
   "execution_count": 12,
   "metadata": {
    "id": "-e33v7Ulpd6r"
   },
   "outputs": [],
   "source": [
    "#preenchendo valores nulos\n",
    "df_base['RankSeason'].fillna(9, inplace = True)"
   ]
  },
  {
   "cell_type": "code",
   "execution_count": 13,
   "metadata": {
    "colab": {
     "base_uri": "https://localhost:8080/"
    },
    "id": "uTrq6VG19CaU",
    "outputId": "659ff4ef-48ef-4bf9-c3a1-239c17ea2c12"
   },
   "outputs": [
    {
     "data": {
      "text/plain": [
       "array([nan,  2.,  1.,  3.,  4.,  5.])"
      ]
     },
     "execution_count": 13,
     "metadata": {},
     "output_type": "execute_result"
    }
   ],
   "source": [
    "df_base['RankPlayoffs'].unique()"
   ]
  },
  {
   "cell_type": "code",
   "execution_count": 14,
   "metadata": {
    "colab": {
     "base_uri": "https://localhost:8080/"
    },
    "id": "aGFp8oQUCOcz",
    "outputId": "9b6b8d6b-c9a4-4ff5-9f31-f9d488f4f391"
   },
   "outputs": [
    {
     "data": {
      "text/plain": [
       "array([0, 1], dtype=int64)"
      ]
     },
     "execution_count": 14,
     "metadata": {},
     "output_type": "execute_result"
    }
   ],
   "source": [
    "df_base['Playoffs'].unique()"
   ]
  },
  {
   "cell_type": "code",
   "execution_count": 15,
   "metadata": {
    "colab": {
     "base_uri": "https://localhost:8080/"
    },
    "id": "GOl1EQq2prEG",
    "outputId": "a2facfaf-7238-4f35-f4ee-8068c9e60b58"
   },
   "outputs": [
    {
     "data": {
      "text/plain": [
       "array([0, 1], dtype=int64)"
      ]
     },
     "execution_count": 15,
     "metadata": {},
     "output_type": "execute_result"
    }
   ],
   "source": [
    "# 0 ou 1 ( 1 é campeão )\n",
    "list = []\n",
    "for item in df_base['RankPlayoffs']:\n",
    "  if item != 1:\n",
    "    list.append(0)\n",
    "  else:\n",
    "    list.append(1)\n",
    "df_base['RankPlayoffs'] = list\n",
    "df_base['RankPlayoffs'].unique()"
   ]
  },
  {
   "cell_type": "code",
   "execution_count": 16,
   "metadata": {
    "colab": {
     "base_uri": "https://localhost:8080/",
     "height": 1000
    },
    "id": "m7b_onunUpF1",
    "outputId": "0470d905-be0c-4c33-ee1a-b50a58241299"
   },
   "outputs": [
    {
     "data": {
      "text/html": [
       "<div>\n",
       "<style scoped>\n",
       "    .dataframe tbody tr th:only-of-type {\n",
       "        vertical-align: middle;\n",
       "    }\n",
       "\n",
       "    .dataframe tbody tr th {\n",
       "        vertical-align: top;\n",
       "    }\n",
       "\n",
       "    .dataframe thead th {\n",
       "        text-align: right;\n",
       "    }\n",
       "</style>\n",
       "<table border=\"1\" class=\"dataframe\">\n",
       "  <thead>\n",
       "    <tr style=\"text-align: right;\">\n",
       "      <th></th>\n",
       "      <th>Year</th>\n",
       "      <th>RS</th>\n",
       "      <th>RA</th>\n",
       "      <th>Playoffs</th>\n",
       "      <th>RankSeason</th>\n",
       "      <th>RankPlayoffs</th>\n",
       "      <th>League_NL</th>\n",
       "      <th>W_norm</th>\n",
       "    </tr>\n",
       "  </thead>\n",
       "  <tbody>\n",
       "    <tr>\n",
       "      <th>1226</th>\n",
       "      <td>1962</td>\n",
       "      <td>817</td>\n",
       "      <td>680</td>\n",
       "      <td>1</td>\n",
       "      <td>2.0</td>\n",
       "      <td>1</td>\n",
       "      <td>0</td>\n",
       "      <td>0.592593</td>\n",
       "    </tr>\n",
       "    <tr>\n",
       "      <th>1202</th>\n",
       "      <td>1963</td>\n",
       "      <td>640</td>\n",
       "      <td>550</td>\n",
       "      <td>1</td>\n",
       "      <td>2.0</td>\n",
       "      <td>1</td>\n",
       "      <td>1</td>\n",
       "      <td>0.607362</td>\n",
       "    </tr>\n",
       "    <tr>\n",
       "      <th>1190</th>\n",
       "      <td>1964</td>\n",
       "      <td>715</td>\n",
       "      <td>652</td>\n",
       "      <td>1</td>\n",
       "      <td>2.0</td>\n",
       "      <td>1</td>\n",
       "      <td>1</td>\n",
       "      <td>0.574074</td>\n",
       "    </tr>\n",
       "    <tr>\n",
       "      <th>1162</th>\n",
       "      <td>1965</td>\n",
       "      <td>608</td>\n",
       "      <td>521</td>\n",
       "      <td>1</td>\n",
       "      <td>2.0</td>\n",
       "      <td>1</td>\n",
       "      <td>1</td>\n",
       "      <td>0.598765</td>\n",
       "    </tr>\n",
       "    <tr>\n",
       "      <th>1133</th>\n",
       "      <td>1966</td>\n",
       "      <td>755</td>\n",
       "      <td>601</td>\n",
       "      <td>1</td>\n",
       "      <td>1.0</td>\n",
       "      <td>1</td>\n",
       "      <td>0</td>\n",
       "      <td>0.606250</td>\n",
       "    </tr>\n",
       "    <tr>\n",
       "      <th>1130</th>\n",
       "      <td>1967</td>\n",
       "      <td>695</td>\n",
       "      <td>557</td>\n",
       "      <td>1</td>\n",
       "      <td>1.0</td>\n",
       "      <td>1</td>\n",
       "      <td>1</td>\n",
       "      <td>0.627329</td>\n",
       "    </tr>\n",
       "    <tr>\n",
       "      <th>1100</th>\n",
       "      <td>1968</td>\n",
       "      <td>671</td>\n",
       "      <td>492</td>\n",
       "      <td>1</td>\n",
       "      <td>1.0</td>\n",
       "      <td>1</td>\n",
       "      <td>0</td>\n",
       "      <td>0.628049</td>\n",
       "    </tr>\n",
       "    <tr>\n",
       "      <th>1082</th>\n",
       "      <td>1969</td>\n",
       "      <td>632</td>\n",
       "      <td>541</td>\n",
       "      <td>1</td>\n",
       "      <td>2.0</td>\n",
       "      <td>1</td>\n",
       "      <td>1</td>\n",
       "      <td>0.617284</td>\n",
       "    </tr>\n",
       "    <tr>\n",
       "      <th>1045</th>\n",
       "      <td>1970</td>\n",
       "      <td>792</td>\n",
       "      <td>574</td>\n",
       "      <td>1</td>\n",
       "      <td>1.0</td>\n",
       "      <td>1</td>\n",
       "      <td>0</td>\n",
       "      <td>0.666667</td>\n",
       "    </tr>\n",
       "    <tr>\n",
       "      <th>1039</th>\n",
       "      <td>1971</td>\n",
       "      <td>788</td>\n",
       "      <td>599</td>\n",
       "      <td>1</td>\n",
       "      <td>2.0</td>\n",
       "      <td>1</td>\n",
       "      <td>1</td>\n",
       "      <td>0.598765</td>\n",
       "    </tr>\n",
       "    <tr>\n",
       "      <th>1013</th>\n",
       "      <td>1973</td>\n",
       "      <td>758</td>\n",
       "      <td>615</td>\n",
       "      <td>1</td>\n",
       "      <td>3.0</td>\n",
       "      <td>1</td>\n",
       "      <td>0</td>\n",
       "      <td>0.580247</td>\n",
       "    </tr>\n",
       "    <tr>\n",
       "      <th>989</th>\n",
       "      <td>1974</td>\n",
       "      <td>689</td>\n",
       "      <td>551</td>\n",
       "      <td>1</td>\n",
       "      <td>3.0</td>\n",
       "      <td>1</td>\n",
       "      <td>0</td>\n",
       "      <td>0.555556</td>\n",
       "    </tr>\n",
       "    <tr>\n",
       "      <th>954</th>\n",
       "      <td>1975</td>\n",
       "      <td>840</td>\n",
       "      <td>586</td>\n",
       "      <td>1</td>\n",
       "      <td>1.0</td>\n",
       "      <td>1</td>\n",
       "      <td>1</td>\n",
       "      <td>0.666667</td>\n",
       "    </tr>\n",
       "    <tr>\n",
       "      <th>930</th>\n",
       "      <td>1976</td>\n",
       "      <td>857</td>\n",
       "      <td>633</td>\n",
       "      <td>1</td>\n",
       "      <td>1.0</td>\n",
       "      <td>1</td>\n",
       "      <td>1</td>\n",
       "      <td>0.629630</td>\n",
       "    </tr>\n",
       "    <tr>\n",
       "      <th>914</th>\n",
       "      <td>1977</td>\n",
       "      <td>831</td>\n",
       "      <td>651</td>\n",
       "      <td>1</td>\n",
       "      <td>3.0</td>\n",
       "      <td>1</td>\n",
       "      <td>0</td>\n",
       "      <td>0.617284</td>\n",
       "    </tr>\n",
       "    <tr>\n",
       "      <th>888</th>\n",
       "      <td>1978</td>\n",
       "      <td>735</td>\n",
       "      <td>582</td>\n",
       "      <td>1</td>\n",
       "      <td>1.0</td>\n",
       "      <td>1</td>\n",
       "      <td>0</td>\n",
       "      <td>0.613497</td>\n",
       "    </tr>\n",
       "    <tr>\n",
       "      <th>865</th>\n",
       "      <td>1979</td>\n",
       "      <td>775</td>\n",
       "      <td>643</td>\n",
       "      <td>1</td>\n",
       "      <td>2.0</td>\n",
       "      <td>1</td>\n",
       "      <td>1</td>\n",
       "      <td>0.601227</td>\n",
       "    </tr>\n",
       "    <tr>\n",
       "      <th>838</th>\n",
       "      <td>1980</td>\n",
       "      <td>728</td>\n",
       "      <td>639</td>\n",
       "      <td>1</td>\n",
       "      <td>4.0</td>\n",
       "      <td>1</td>\n",
       "      <td>1</td>\n",
       "      <td>0.561728</td>\n",
       "    </tr>\n",
       "    <tr>\n",
       "      <th>817</th>\n",
       "      <td>1982</td>\n",
       "      <td>685</td>\n",
       "      <td>609</td>\n",
       "      <td>1</td>\n",
       "      <td>3.0</td>\n",
       "      <td>1</td>\n",
       "      <td>1</td>\n",
       "      <td>0.567901</td>\n",
       "    </tr>\n",
       "    <tr>\n",
       "      <th>769</th>\n",
       "      <td>1983</td>\n",
       "      <td>799</td>\n",
       "      <td>652</td>\n",
       "      <td>1</td>\n",
       "      <td>2.0</td>\n",
       "      <td>1</td>\n",
       "      <td>0</td>\n",
       "      <td>0.604938</td>\n",
       "    </tr>\n",
       "    <tr>\n",
       "      <th>750</th>\n",
       "      <td>1984</td>\n",
       "      <td>829</td>\n",
       "      <td>643</td>\n",
       "      <td>1</td>\n",
       "      <td>1.0</td>\n",
       "      <td>1</td>\n",
       "      <td>0</td>\n",
       "      <td>0.641975</td>\n",
       "    </tr>\n",
       "    <tr>\n",
       "      <th>726</th>\n",
       "      <td>1985</td>\n",
       "      <td>687</td>\n",
       "      <td>639</td>\n",
       "      <td>1</td>\n",
       "      <td>4.0</td>\n",
       "      <td>1</td>\n",
       "      <td>0</td>\n",
       "      <td>0.561728</td>\n",
       "    </tr>\n",
       "    <tr>\n",
       "      <th>705</th>\n",
       "      <td>1986</td>\n",
       "      <td>783</td>\n",
       "      <td>578</td>\n",
       "      <td>1</td>\n",
       "      <td>1.0</td>\n",
       "      <td>1</td>\n",
       "      <td>1</td>\n",
       "      <td>0.666667</td>\n",
       "    </tr>\n",
       "    <tr>\n",
       "      <th>677</th>\n",
       "      <td>1987</td>\n",
       "      <td>786</td>\n",
       "      <td>806</td>\n",
       "      <td>1</td>\n",
       "      <td>4.0</td>\n",
       "      <td>1</td>\n",
       "      <td>0</td>\n",
       "      <td>0.524691</td>\n",
       "    </tr>\n",
       "    <tr>\n",
       "      <th>649</th>\n",
       "      <td>1988</td>\n",
       "      <td>628</td>\n",
       "      <td>544</td>\n",
       "      <td>1</td>\n",
       "      <td>3.0</td>\n",
       "      <td>1</td>\n",
       "      <td>1</td>\n",
       "      <td>0.580247</td>\n",
       "    </tr>\n",
       "    <tr>\n",
       "      <th>629</th>\n",
       "      <td>1989</td>\n",
       "      <td>712</td>\n",
       "      <td>576</td>\n",
       "      <td>1</td>\n",
       "      <td>1.0</td>\n",
       "      <td>1</td>\n",
       "      <td>0</td>\n",
       "      <td>0.611111</td>\n",
       "    </tr>\n",
       "    <tr>\n",
       "      <th>592</th>\n",
       "      <td>1990</td>\n",
       "      <td>693</td>\n",
       "      <td>597</td>\n",
       "      <td>1</td>\n",
       "      <td>3.0</td>\n",
       "      <td>1</td>\n",
       "      <td>1</td>\n",
       "      <td>0.561728</td>\n",
       "    </tr>\n",
       "    <tr>\n",
       "      <th>573</th>\n",
       "      <td>1991</td>\n",
       "      <td>776</td>\n",
       "      <td>652</td>\n",
       "      <td>1</td>\n",
       "      <td>2.0</td>\n",
       "      <td>1</td>\n",
       "      <td>0</td>\n",
       "      <td>0.586420</td>\n",
       "    </tr>\n",
       "    <tr>\n",
       "      <th>559</th>\n",
       "      <td>1992</td>\n",
       "      <td>780</td>\n",
       "      <td>682</td>\n",
       "      <td>1</td>\n",
       "      <td>2.0</td>\n",
       "      <td>1</td>\n",
       "      <td>0</td>\n",
       "      <td>0.592593</td>\n",
       "    </tr>\n",
       "    <tr>\n",
       "      <th>533</th>\n",
       "      <td>1993</td>\n",
       "      <td>847</td>\n",
       "      <td>742</td>\n",
       "      <td>1</td>\n",
       "      <td>3.0</td>\n",
       "      <td>1</td>\n",
       "      <td>0</td>\n",
       "      <td>0.586420</td>\n",
       "    </tr>\n",
       "    <tr>\n",
       "      <th>496</th>\n",
       "      <td>1996</td>\n",
       "      <td>871</td>\n",
       "      <td>787</td>\n",
       "      <td>1</td>\n",
       "      <td>3.0</td>\n",
       "      <td>1</td>\n",
       "      <td>0</td>\n",
       "      <td>0.567901</td>\n",
       "    </tr>\n",
       "    <tr>\n",
       "      <th>460</th>\n",
       "      <td>1997</td>\n",
       "      <td>740</td>\n",
       "      <td>669</td>\n",
       "      <td>1</td>\n",
       "      <td>4.0</td>\n",
       "      <td>1</td>\n",
       "      <td>1</td>\n",
       "      <td>0.567901</td>\n",
       "    </tr>\n",
       "    <tr>\n",
       "      <th>439</th>\n",
       "      <td>1998</td>\n",
       "      <td>965</td>\n",
       "      <td>656</td>\n",
       "      <td>1</td>\n",
       "      <td>1.0</td>\n",
       "      <td>1</td>\n",
       "      <td>0</td>\n",
       "      <td>0.703704</td>\n",
       "    </tr>\n",
       "    <tr>\n",
       "      <th>409</th>\n",
       "      <td>1999</td>\n",
       "      <td>900</td>\n",
       "      <td>731</td>\n",
       "      <td>1</td>\n",
       "      <td>3.0</td>\n",
       "      <td>1</td>\n",
       "      <td>0</td>\n",
       "      <td>0.604938</td>\n",
       "    </tr>\n",
       "    <tr>\n",
       "      <th>379</th>\n",
       "      <td>2000</td>\n",
       "      <td>871</td>\n",
       "      <td>814</td>\n",
       "      <td>1</td>\n",
       "      <td>5.0</td>\n",
       "      <td>1</td>\n",
       "      <td>0</td>\n",
       "      <td>0.540373</td>\n",
       "    </tr>\n",
       "    <tr>\n",
       "      <th>331</th>\n",
       "      <td>2001</td>\n",
       "      <td>818</td>\n",
       "      <td>677</td>\n",
       "      <td>1</td>\n",
       "      <td>5.0</td>\n",
       "      <td>1</td>\n",
       "      <td>1</td>\n",
       "      <td>0.567901</td>\n",
       "    </tr>\n",
       "    <tr>\n",
       "      <th>300</th>\n",
       "      <td>2002</td>\n",
       "      <td>851</td>\n",
       "      <td>644</td>\n",
       "      <td>1</td>\n",
       "      <td>3.0</td>\n",
       "      <td>1</td>\n",
       "      <td>0</td>\n",
       "      <td>0.611111</td>\n",
       "    </tr>\n",
       "    <tr>\n",
       "      <th>281</th>\n",
       "      <td>2003</td>\n",
       "      <td>751</td>\n",
       "      <td>692</td>\n",
       "      <td>1</td>\n",
       "      <td>5.0</td>\n",
       "      <td>1</td>\n",
       "      <td>1</td>\n",
       "      <td>0.561728</td>\n",
       "    </tr>\n",
       "    <tr>\n",
       "      <th>244</th>\n",
       "      <td>2004</td>\n",
       "      <td>949</td>\n",
       "      <td>768</td>\n",
       "      <td>1</td>\n",
       "      <td>3.0</td>\n",
       "      <td>1</td>\n",
       "      <td>0</td>\n",
       "      <td>0.604938</td>\n",
       "    </tr>\n",
       "    <tr>\n",
       "      <th>215</th>\n",
       "      <td>2005</td>\n",
       "      <td>741</td>\n",
       "      <td>645</td>\n",
       "      <td>1</td>\n",
       "      <td>2.0</td>\n",
       "      <td>1</td>\n",
       "      <td>0</td>\n",
       "      <td>0.611111</td>\n",
       "    </tr>\n",
       "    <tr>\n",
       "      <th>205</th>\n",
       "      <td>2006</td>\n",
       "      <td>781</td>\n",
       "      <td>762</td>\n",
       "      <td>1</td>\n",
       "      <td>6.0</td>\n",
       "      <td>1</td>\n",
       "      <td>1</td>\n",
       "      <td>0.515528</td>\n",
       "    </tr>\n",
       "    <tr>\n",
       "      <th>153</th>\n",
       "      <td>2007</td>\n",
       "      <td>867</td>\n",
       "      <td>657</td>\n",
       "      <td>1</td>\n",
       "      <td>1.0</td>\n",
       "      <td>1</td>\n",
       "      <td>0</td>\n",
       "      <td>0.592593</td>\n",
       "    </tr>\n",
       "    <tr>\n",
       "      <th>140</th>\n",
       "      <td>2008</td>\n",
       "      <td>799</td>\n",
       "      <td>680</td>\n",
       "      <td>1</td>\n",
       "      <td>4.0</td>\n",
       "      <td>1</td>\n",
       "      <td>1</td>\n",
       "      <td>0.567901</td>\n",
       "    </tr>\n",
       "    <tr>\n",
       "      <th>108</th>\n",
       "      <td>2009</td>\n",
       "      <td>915</td>\n",
       "      <td>753</td>\n",
       "      <td>1</td>\n",
       "      <td>1.0</td>\n",
       "      <td>1</td>\n",
       "      <td>0</td>\n",
       "      <td>0.635802</td>\n",
       "    </tr>\n",
       "    <tr>\n",
       "      <th>84</th>\n",
       "      <td>2010</td>\n",
       "      <td>697</td>\n",
       "      <td>583</td>\n",
       "      <td>1</td>\n",
       "      <td>5.0</td>\n",
       "      <td>1</td>\n",
       "      <td>1</td>\n",
       "      <td>0.567901</td>\n",
       "    </tr>\n",
       "    <tr>\n",
       "      <th>55</th>\n",
       "      <td>2011</td>\n",
       "      <td>762</td>\n",
       "      <td>692</td>\n",
       "      <td>1</td>\n",
       "      <td>7.0</td>\n",
       "      <td>1</td>\n",
       "      <td>1</td>\n",
       "      <td>0.555556</td>\n",
       "    </tr>\n",
       "    <tr>\n",
       "      <th>24</th>\n",
       "      <td>2012</td>\n",
       "      <td>718</td>\n",
       "      <td>649</td>\n",
       "      <td>1</td>\n",
       "      <td>4.0</td>\n",
       "      <td>1</td>\n",
       "      <td>1</td>\n",
       "      <td>0.580247</td>\n",
       "    </tr>\n",
       "  </tbody>\n",
       "</table>\n",
       "</div>"
      ],
      "text/plain": [
       "      Year   RS   RA  Playoffs  RankSeason  RankPlayoffs  League_NL    W_norm\n",
       "1226  1962  817  680         1         2.0             1          0  0.592593\n",
       "1202  1963  640  550         1         2.0             1          1  0.607362\n",
       "1190  1964  715  652         1         2.0             1          1  0.574074\n",
       "1162  1965  608  521         1         2.0             1          1  0.598765\n",
       "1133  1966  755  601         1         1.0             1          0  0.606250\n",
       "1130  1967  695  557         1         1.0             1          1  0.627329\n",
       "1100  1968  671  492         1         1.0             1          0  0.628049\n",
       "1082  1969  632  541         1         2.0             1          1  0.617284\n",
       "1045  1970  792  574         1         1.0             1          0  0.666667\n",
       "1039  1971  788  599         1         2.0             1          1  0.598765\n",
       "1013  1973  758  615         1         3.0             1          0  0.580247\n",
       "989   1974  689  551         1         3.0             1          0  0.555556\n",
       "954   1975  840  586         1         1.0             1          1  0.666667\n",
       "930   1976  857  633         1         1.0             1          1  0.629630\n",
       "914   1977  831  651         1         3.0             1          0  0.617284\n",
       "888   1978  735  582         1         1.0             1          0  0.613497\n",
       "865   1979  775  643         1         2.0             1          1  0.601227\n",
       "838   1980  728  639         1         4.0             1          1  0.561728\n",
       "817   1982  685  609         1         3.0             1          1  0.567901\n",
       "769   1983  799  652         1         2.0             1          0  0.604938\n",
       "750   1984  829  643         1         1.0             1          0  0.641975\n",
       "726   1985  687  639         1         4.0             1          0  0.561728\n",
       "705   1986  783  578         1         1.0             1          1  0.666667\n",
       "677   1987  786  806         1         4.0             1          0  0.524691\n",
       "649   1988  628  544         1         3.0             1          1  0.580247\n",
       "629   1989  712  576         1         1.0             1          0  0.611111\n",
       "592   1990  693  597         1         3.0             1          1  0.561728\n",
       "573   1991  776  652         1         2.0             1          0  0.586420\n",
       "559   1992  780  682         1         2.0             1          0  0.592593\n",
       "533   1993  847  742         1         3.0             1          0  0.586420\n",
       "496   1996  871  787         1         3.0             1          0  0.567901\n",
       "460   1997  740  669         1         4.0             1          1  0.567901\n",
       "439   1998  965  656         1         1.0             1          0  0.703704\n",
       "409   1999  900  731         1         3.0             1          0  0.604938\n",
       "379   2000  871  814         1         5.0             1          0  0.540373\n",
       "331   2001  818  677         1         5.0             1          1  0.567901\n",
       "300   2002  851  644         1         3.0             1          0  0.611111\n",
       "281   2003  751  692         1         5.0             1          1  0.561728\n",
       "244   2004  949  768         1         3.0             1          0  0.604938\n",
       "215   2005  741  645         1         2.0             1          0  0.611111\n",
       "205   2006  781  762         1         6.0             1          1  0.515528\n",
       "153   2007  867  657         1         1.0             1          0  0.592593\n",
       "140   2008  799  680         1         4.0             1          1  0.567901\n",
       "108   2009  915  753         1         1.0             1          0  0.635802\n",
       "84    2010  697  583         1         5.0             1          1  0.567901\n",
       "55    2011  762  692         1         7.0             1          1  0.555556\n",
       "24    2012  718  649         1         4.0             1          1  0.580247"
      ]
     },
     "execution_count": 16,
     "metadata": {},
     "output_type": "execute_result"
    }
   ],
   "source": [
    "df_base.loc[df_base['RankPlayoffs'] == 1]\n",
    "# não houve campeão em 1994 porque houve uma greve"
   ]
  },
  {
   "cell_type": "code",
   "execution_count": 17,
   "metadata": {
    "id": "ldiltnMokSm6"
   },
   "outputs": [],
   "source": [
    "#Modelo de treino dados de 2000 a 2010\n",
    "df_base_train = df_base.loc[df_base['Year'] >= 2000 ]\n",
    "df_base_train = df_base_train.loc[df_base['Year'] <= 2010 ]\n"
   ]
  },
  {
   "cell_type": "code",
   "execution_count": 18,
   "metadata": {
    "id": "MO0E3jDO80d0"
   },
   "outputs": [],
   "source": [
    "df_base_test = df_base.loc[df_base['Year'] > 2010]"
   ]
  },
  {
   "cell_type": "code",
   "execution_count": 19,
   "metadata": {
    "colab": {
     "base_uri": "https://localhost:8080/"
    },
    "id": "FjuOXKqLov7D",
    "outputId": "6678a177-1ec1-4b5f-c6ae-8de59453640a"
   },
   "outputs": [
    {
     "name": "stdout",
     "output_type": "stream",
     "text": [
      "<class 'pandas.core.frame.DataFrame'>\n",
      "Int64Index: 330 entries, 372 to 74\n",
      "Data columns (total 8 columns):\n",
      " #   Column        Non-Null Count  Dtype  \n",
      "---  ------        --------------  -----  \n",
      " 0   Year          330 non-null    int64  \n",
      " 1   RS            330 non-null    int64  \n",
      " 2   RA            330 non-null    int64  \n",
      " 3   Playoffs      330 non-null    int64  \n",
      " 4   RankSeason    330 non-null    float64\n",
      " 5   RankPlayoffs  330 non-null    int64  \n",
      " 6   League_NL     330 non-null    uint8  \n",
      " 7   W_norm        330 non-null    float64\n",
      "dtypes: float64(2), int64(5), uint8(1)\n",
      "memory usage: 20.9 KB\n"
     ]
    },
    {
     "data": {
      "text/plain": [
       "Year            0\n",
       "RS              0\n",
       "RA              0\n",
       "Playoffs        0\n",
       "RankSeason      0\n",
       "RankPlayoffs    0\n",
       "League_NL       0\n",
       "W_norm          0\n",
       "dtype: int64"
      ]
     },
     "execution_count": 19,
     "metadata": {},
     "output_type": "execute_result"
    }
   ],
   "source": [
    "df_base_train.info()\n",
    "df_base_train.isna().sum()"
   ]
  },
  {
   "cell_type": "code",
   "execution_count": 20,
   "metadata": {
    "colab": {
     "base_uri": "https://localhost:8080/",
     "height": 297
    },
    "id": "SRppgeIK4vVB",
    "outputId": "01a82425-a4a5-4da4-9b36-931207bb22df"
   },
   "outputs": [
    {
     "data": {
      "text/html": [
       "<div>\n",
       "<style scoped>\n",
       "    .dataframe tbody tr th:only-of-type {\n",
       "        vertical-align: middle;\n",
       "    }\n",
       "\n",
       "    .dataframe tbody tr th {\n",
       "        vertical-align: top;\n",
       "    }\n",
       "\n",
       "    .dataframe thead th {\n",
       "        text-align: right;\n",
       "    }\n",
       "</style>\n",
       "<table border=\"1\" class=\"dataframe\">\n",
       "  <thead>\n",
       "    <tr style=\"text-align: right;\">\n",
       "      <th></th>\n",
       "      <th>Year</th>\n",
       "      <th>RS</th>\n",
       "      <th>RA</th>\n",
       "      <th>Playoffs</th>\n",
       "      <th>RankSeason</th>\n",
       "      <th>RankPlayoffs</th>\n",
       "      <th>League_NL</th>\n",
       "      <th>W_norm</th>\n",
       "    </tr>\n",
       "  </thead>\n",
       "  <tbody>\n",
       "    <tr>\n",
       "      <th>count</th>\n",
       "      <td>330.00000</td>\n",
       "      <td>330.000000</td>\n",
       "      <td>330.000000</td>\n",
       "      <td>330.000000</td>\n",
       "      <td>330.000000</td>\n",
       "      <td>330.000000</td>\n",
       "      <td>330.000000</td>\n",
       "      <td>330.000000</td>\n",
       "    </tr>\n",
       "    <tr>\n",
       "      <th>mean</th>\n",
       "      <td>2005.00000</td>\n",
       "      <td>765.121212</td>\n",
       "      <td>765.121212</td>\n",
       "      <td>0.266667</td>\n",
       "      <td>7.557576</td>\n",
       "      <td>0.033333</td>\n",
       "      <td>0.533333</td>\n",
       "      <td>0.499894</td>\n",
       "    </tr>\n",
       "    <tr>\n",
       "      <th>std</th>\n",
       "      <td>3.16708</td>\n",
       "      <td>79.568577</td>\n",
       "      <td>83.453009</td>\n",
       "      <td>0.442888</td>\n",
       "      <td>2.584385</td>\n",
       "      <td>0.179778</td>\n",
       "      <td>0.499645</td>\n",
       "      <td>0.071613</td>\n",
       "    </tr>\n",
       "    <tr>\n",
       "      <th>min</th>\n",
       "      <td>2000.00000</td>\n",
       "      <td>513.000000</td>\n",
       "      <td>556.000000</td>\n",
       "      <td>0.000000</td>\n",
       "      <td>1.000000</td>\n",
       "      <td>0.000000</td>\n",
       "      <td>0.000000</td>\n",
       "      <td>0.265432</td>\n",
       "    </tr>\n",
       "    <tr>\n",
       "      <th>25%</th>\n",
       "      <td>2002.00000</td>\n",
       "      <td>712.250000</td>\n",
       "      <td>704.250000</td>\n",
       "      <td>0.000000</td>\n",
       "      <td>7.000000</td>\n",
       "      <td>0.000000</td>\n",
       "      <td>0.000000</td>\n",
       "      <td>0.444444</td>\n",
       "    </tr>\n",
       "    <tr>\n",
       "      <th>50%</th>\n",
       "      <td>2005.00000</td>\n",
       "      <td>760.000000</td>\n",
       "      <td>759.000000</td>\n",
       "      <td>0.000000</td>\n",
       "      <td>9.000000</td>\n",
       "      <td>0.000000</td>\n",
       "      <td>1.000000</td>\n",
       "      <td>0.506173</td>\n",
       "    </tr>\n",
       "    <tr>\n",
       "      <th>75%</th>\n",
       "      <td>2008.00000</td>\n",
       "      <td>813.750000</td>\n",
       "      <td>823.000000</td>\n",
       "      <td>1.000000</td>\n",
       "      <td>9.000000</td>\n",
       "      <td>0.000000</td>\n",
       "      <td>1.000000</td>\n",
       "      <td>0.555556</td>\n",
       "    </tr>\n",
       "    <tr>\n",
       "      <th>max</th>\n",
       "      <td>2010.00000</td>\n",
       "      <td>978.000000</td>\n",
       "      <td>974.000000</td>\n",
       "      <td>1.000000</td>\n",
       "      <td>9.000000</td>\n",
       "      <td>1.000000</td>\n",
       "      <td>1.000000</td>\n",
       "      <td>0.716049</td>\n",
       "    </tr>\n",
       "  </tbody>\n",
       "</table>\n",
       "</div>"
      ],
      "text/plain": [
       "             Year          RS          RA    Playoffs  RankSeason  \\\n",
       "count   330.00000  330.000000  330.000000  330.000000  330.000000   \n",
       "mean   2005.00000  765.121212  765.121212    0.266667    7.557576   \n",
       "std       3.16708   79.568577   83.453009    0.442888    2.584385   \n",
       "min    2000.00000  513.000000  556.000000    0.000000    1.000000   \n",
       "25%    2002.00000  712.250000  704.250000    0.000000    7.000000   \n",
       "50%    2005.00000  760.000000  759.000000    0.000000    9.000000   \n",
       "75%    2008.00000  813.750000  823.000000    1.000000    9.000000   \n",
       "max    2010.00000  978.000000  974.000000    1.000000    9.000000   \n",
       "\n",
       "       RankPlayoffs   League_NL      W_norm  \n",
       "count    330.000000  330.000000  330.000000  \n",
       "mean       0.033333    0.533333    0.499894  \n",
       "std        0.179778    0.499645    0.071613  \n",
       "min        0.000000    0.000000    0.265432  \n",
       "25%        0.000000    0.000000    0.444444  \n",
       "50%        0.000000    1.000000    0.506173  \n",
       "75%        0.000000    1.000000    0.555556  \n",
       "max        1.000000    1.000000    0.716049  "
      ]
     },
     "execution_count": 20,
     "metadata": {},
     "output_type": "execute_result"
    }
   ],
   "source": [
    "df_base_train.describe()"
   ]
  },
  {
   "cell_type": "code",
   "execution_count": 21,
   "metadata": {
    "colab": {
     "base_uri": "https://localhost:8080/",
     "height": 297
    },
    "id": "MrJ0OVRZ6jX2",
    "outputId": "ba3b5226-202c-4afc-aa31-e43edcc1ef97"
   },
   "outputs": [
    {
     "data": {
      "text/html": [
       "<div>\n",
       "<style scoped>\n",
       "    .dataframe tbody tr th:only-of-type {\n",
       "        vertical-align: middle;\n",
       "    }\n",
       "\n",
       "    .dataframe tbody tr th {\n",
       "        vertical-align: top;\n",
       "    }\n",
       "\n",
       "    .dataframe thead th {\n",
       "        text-align: right;\n",
       "    }\n",
       "</style>\n",
       "<table border=\"1\" class=\"dataframe\">\n",
       "  <thead>\n",
       "    <tr style=\"text-align: right;\">\n",
       "      <th></th>\n",
       "      <th>Year</th>\n",
       "      <th>RS</th>\n",
       "      <th>RA</th>\n",
       "      <th>Playoffs</th>\n",
       "      <th>RankSeason</th>\n",
       "      <th>RankPlayoffs</th>\n",
       "      <th>League_NL</th>\n",
       "      <th>W_norm</th>\n",
       "    </tr>\n",
       "  </thead>\n",
       "  <tbody>\n",
       "    <tr>\n",
       "      <th>count</th>\n",
       "      <td>60.000000</td>\n",
       "      <td>60.000000</td>\n",
       "      <td>60.000000</td>\n",
       "      <td>60.000000</td>\n",
       "      <td>60.000000</td>\n",
       "      <td>60.000000</td>\n",
       "      <td>60.000000</td>\n",
       "      <td>60.000000</td>\n",
       "    </tr>\n",
       "    <tr>\n",
       "      <th>mean</th>\n",
       "      <td>2011.500000</td>\n",
       "      <td>697.083333</td>\n",
       "      <td>697.083333</td>\n",
       "      <td>0.300000</td>\n",
       "      <td>7.483333</td>\n",
       "      <td>0.033333</td>\n",
       "      <td>0.533333</td>\n",
       "      <td>0.500001</td>\n",
       "    </tr>\n",
       "    <tr>\n",
       "      <th>std</th>\n",
       "      <td>0.504219</td>\n",
       "      <td>70.799620</td>\n",
       "      <td>76.912517</td>\n",
       "      <td>0.462125</td>\n",
       "      <td>2.521041</td>\n",
       "      <td>0.181020</td>\n",
       "      <td>0.503098</td>\n",
       "      <td>0.071472</td>\n",
       "    </tr>\n",
       "    <tr>\n",
       "      <th>min</th>\n",
       "      <td>2011.000000</td>\n",
       "      <td>556.000000</td>\n",
       "      <td>529.000000</td>\n",
       "      <td>0.000000</td>\n",
       "      <td>1.000000</td>\n",
       "      <td>0.000000</td>\n",
       "      <td>0.000000</td>\n",
       "      <td>0.339506</td>\n",
       "    </tr>\n",
       "    <tr>\n",
       "      <th>25%</th>\n",
       "      <td>2011.000000</td>\n",
       "      <td>644.750000</td>\n",
       "      <td>646.750000</td>\n",
       "      <td>0.000000</td>\n",
       "      <td>6.000000</td>\n",
       "      <td>0.000000</td>\n",
       "      <td>0.000000</td>\n",
       "      <td>0.444444</td>\n",
       "    </tr>\n",
       "    <tr>\n",
       "      <th>50%</th>\n",
       "      <td>2011.500000</td>\n",
       "      <td>705.500000</td>\n",
       "      <td>695.500000</td>\n",
       "      <td>0.000000</td>\n",
       "      <td>9.000000</td>\n",
       "      <td>0.000000</td>\n",
       "      <td>1.000000</td>\n",
       "      <td>0.500000</td>\n",
       "    </tr>\n",
       "    <tr>\n",
       "      <th>75%</th>\n",
       "      <td>2012.000000</td>\n",
       "      <td>734.250000</td>\n",
       "      <td>748.500000</td>\n",
       "      <td>1.000000</td>\n",
       "      <td>9.000000</td>\n",
       "      <td>0.000000</td>\n",
       "      <td>1.000000</td>\n",
       "      <td>0.557099</td>\n",
       "    </tr>\n",
       "    <tr>\n",
       "      <th>max</th>\n",
       "      <td>2012.000000</td>\n",
       "      <td>875.000000</td>\n",
       "      <td>890.000000</td>\n",
       "      <td>1.000000</td>\n",
       "      <td>9.000000</td>\n",
       "      <td>1.000000</td>\n",
       "      <td>1.000000</td>\n",
       "      <td>0.629630</td>\n",
       "    </tr>\n",
       "  </tbody>\n",
       "</table>\n",
       "</div>"
      ],
      "text/plain": [
       "              Year          RS          RA   Playoffs  RankSeason  \\\n",
       "count    60.000000   60.000000   60.000000  60.000000   60.000000   \n",
       "mean   2011.500000  697.083333  697.083333   0.300000    7.483333   \n",
       "std       0.504219   70.799620   76.912517   0.462125    2.521041   \n",
       "min    2011.000000  556.000000  529.000000   0.000000    1.000000   \n",
       "25%    2011.000000  644.750000  646.750000   0.000000    6.000000   \n",
       "50%    2011.500000  705.500000  695.500000   0.000000    9.000000   \n",
       "75%    2012.000000  734.250000  748.500000   1.000000    9.000000   \n",
       "max    2012.000000  875.000000  890.000000   1.000000    9.000000   \n",
       "\n",
       "       RankPlayoffs  League_NL     W_norm  \n",
       "count     60.000000  60.000000  60.000000  \n",
       "mean       0.033333   0.533333   0.500001  \n",
       "std        0.181020   0.503098   0.071472  \n",
       "min        0.000000   0.000000   0.339506  \n",
       "25%        0.000000   0.000000   0.444444  \n",
       "50%        0.000000   1.000000   0.500000  \n",
       "75%        0.000000   1.000000   0.557099  \n",
       "max        1.000000   1.000000   0.629630  "
      ]
     },
     "execution_count": 21,
     "metadata": {},
     "output_type": "execute_result"
    }
   ],
   "source": [
    "df_base_test.describe()"
   ]
  },
  {
   "cell_type": "code",
   "execution_count": 22,
   "metadata": {
    "colab": {
     "base_uri": "https://localhost:8080/",
     "height": 488
    },
    "id": "2FETMA4eIZSU",
    "outputId": "18e6570f-33e8-4d0f-b591-02c03078df1c"
   },
   "outputs": [
    {
     "data": {
      "image/png": "[encoded data removed]",
      "text/plain": [
       "<Figure size 720x576 with 2 Axes>"
      ]
     },
     "metadata": {
      "needs_background": "light"
     },
     "output_type": "display_data"
    }
   ],
   "source": [
    "plt.figure(figsize=(10,8))\n",
    "sns.heatmap(df_base_train.drop(['Playoffs', 'RankPlayoffs'], axis=1).corr(), annot=True)\n",
    "plt.show()"
   ]
  },
  {
   "cell_type": "code",
   "execution_count": 24,
   "metadata": {
    "colab": {
     "base_uri": "https://localhost:8080/"
    },
    "id": "LnzOgrM_mib9",
    "outputId": "19940f1a-c0fd-45c5-ea69-4779406e299a"
   },
   "outputs": [
    {
     "name": "stdout",
     "output_type": "stream",
     "text": [
      "Optimization terminated successfully.\n",
      "         Current function value: 0.176301\n",
      "         Iterations 10\n"
     ]
    }
   ],
   "source": [
    "# 1o Modelo: quem vai para Playoff 0 não vai 1 vai\n",
    "# Regressão logística stats model\n",
    "\n",
    "# function_formula = 'Playoffs ~ Year + RS + RA + RankSeason + RankPlayoffs  + League_NL + W_norm ' \n",
    "# tirei RankPlayoffs não faz sentido\n",
    "\n",
    "# Retirada dos coeficientes não siginificativos\n",
    "# 1 Pelo heatmap seria interessante tirar o W_norm ou RankSeason, então vi os vif para tirar a dúvida\n",
    "# 2 tirei por Vifs : W_norm, Year, RA, não tinha mais vif pra tirar estavam todos < 10\n",
    "# 3 o modelo não deu certo, nem rodou : Perfect separation detected, results not available\n",
    "# 4 voltei para o começo (Retirada dos coeficientes não siginificativos) e não retirei W_norm, retirei o RankSeason pq o RankSeason os nans considerei 9 pq o rank ia de 1 a 8, depois disso não seguia a ordem até o final, dos 1232 só tinham 244 preenchidos\n",
    "# 5 tirei por vifs: Year, RS.  W_norm e RA estavam mto próximos, então descartei o > : W_Norm . No final a maior precisão é 0,5 e acurácia 0,7, threshold 0,4\n",
    "# 6 voltei par o item 5 e mantive o W-norm na etapa dos vifs e descartei o  RA e deu um melhor modelo, precisao 0,8 e acuracia 0,9 threshold 0,4 e o gráfico ficou melhor\n",
    "\n",
    "\n",
    "#Modelo final dos playoffs\n",
    "\n",
    "function_formula = ' Playoffs ~  League_NL + W_norm ' \n",
    "reg_log_b_train = smf.logit(formula=function_formula, data=df_base_train)\n",
    "reg_log_b_train = reg_log_b_train.fit()\n"
   ]
  },
  {
   "cell_type": "code",
   "execution_count": 25,
   "metadata": {
    "colab": {
     "base_uri": "https://localhost:8080/"
    },
    "id": "Y0e1MMp5oWTU",
    "outputId": "e80f93b1-1e75-49fa-a6cc-bb7a82badd47"
   },
   "outputs": [
    {
     "name": "stdout",
     "output_type": "stream",
     "text": [
      "                           Logit Regression Results                           \n",
      "==============================================================================\n",
      "Dep. Variable:               Playoffs   No. Observations:                  330\n",
      "Model:                          Logit   Df Residuals:                      327\n",
      "Method:                           MLE   Df Model:                            2\n",
      "Date:                Sat, 26 Jun 2021   Pseudo R-squ.:                  0.6960\n",
      "Time:                        17:09:58   Log-Likelihood:                -58.179\n",
      "converged:                       True   LL-Null:                       -191.37\n",
      "Covariance Type:            nonrobust   LLR p-value:                 1.429e-58\n",
      "==============================================================================\n",
      "                 coef    std err          z      P>|z|      [0.025      0.975]\n",
      "------------------------------------------------------------------------------\n",
      "Intercept    -49.7322      6.969     -7.137      0.000     -63.390     -36.074\n",
      "League_NL      1.1091      0.516      2.150      0.032       0.098       2.120\n",
      "W_norm        88.8932     12.433      7.150      0.000      64.524     113.262\n",
      "==============================================================================\n",
      "\n",
      "Possibly complete quasi-separation: A fraction 0.25 of observations can be\n",
      "perfectly predicted. This might indicate that there is complete\n",
      "quasi-separation. In this case some parameters will not be identified.\n"
     ]
    }
   ],
   "source": [
    "print(reg_log_b_train.summary())"
   ]
  },
  {
   "cell_type": "code",
   "execution_count": 26,
   "metadata": {
    "colab": {
     "base_uri": "https://localhost:8080/",
     "height": 110
    },
    "id": "cJcR1imNDveg",
    "outputId": "cdfe0660-3c36-4708-a523-dba4ece7ea98"
   },
   "outputs": [
    {
     "data": {
      "text/html": [
       "<div>\n",
       "<style scoped>\n",
       "    .dataframe tbody tr th:only-of-type {\n",
       "        vertical-align: middle;\n",
       "    }\n",
       "\n",
       "    .dataframe tbody tr th {\n",
       "        vertical-align: top;\n",
       "    }\n",
       "\n",
       "    .dataframe thead th {\n",
       "        text-align: right;\n",
       "    }\n",
       "</style>\n",
       "<table border=\"1\" class=\"dataframe\">\n",
       "  <thead>\n",
       "    <tr style=\"text-align: right;\">\n",
       "      <th></th>\n",
       "      <th>features</th>\n",
       "      <th>VIF Factor</th>\n",
       "    </tr>\n",
       "  </thead>\n",
       "  <tbody>\n",
       "    <tr>\n",
       "      <th>0</th>\n",
       "      <td>League_NL</td>\n",
       "      <td>2.064597</td>\n",
       "    </tr>\n",
       "    <tr>\n",
       "      <th>1</th>\n",
       "      <td>W_norm</td>\n",
       "      <td>2.064597</td>\n",
       "    </tr>\n",
       "  </tbody>\n",
       "</table>\n",
       "</div>"
      ],
      "text/plain": [
       "    features  VIF Factor\n",
       "0  League_NL    2.064597\n",
       "1     W_norm    2.064597"
      ]
     },
     "execution_count": 26,
     "metadata": {},
     "output_type": "execute_result"
    }
   ],
   "source": [
    "vif_base_playoff = pd.DataFrame()\n",
    "features_playoff = df_base_train.drop(['Playoffs', 'RankPlayoffs', 'RankSeason', 'Year', 'RS', 'RA'], axis = 1)\n",
    "vif_base_playoff[\"features\"] = features_playoff.columns\n",
    "vif_base_playoff[\"VIF Factor\"] = [variance_inflation_factor(features_playoff.values, i) for i in range(features_playoff.shape[1])]\n",
    "vif_base_playoff.sort_values(by = 'VIF Factor', ascending= False)\n"
   ]
  },
  {
   "cell_type": "code",
   "execution_count": 27,
   "metadata": {
    "id": "x5m4yIHpn0u-"
   },
   "outputs": [],
   "source": [
    "Y_train_base = df_base_train['Playoffs']\n"
   ]
  },
  {
   "cell_type": "code",
   "execution_count": 28,
   "metadata": {
    "colab": {
     "base_uri": "https://localhost:8080/",
     "height": 420
    },
    "id": "huZiJJ5mo14r",
    "outputId": "2d9cd7dd-7003-497d-9cbc-ee735d6af1e3"
   },
   "outputs": [
    {
     "data": {
      "text/html": [
       "<div>\n",
       "<style scoped>\n",
       "    .dataframe tbody tr th:only-of-type {\n",
       "        vertical-align: middle;\n",
       "    }\n",
       "\n",
       "    .dataframe tbody tr th {\n",
       "        vertical-align: top;\n",
       "    }\n",
       "\n",
       "    .dataframe thead th {\n",
       "        text-align: right;\n",
       "    }\n",
       "</style>\n",
       "<table border=\"1\" class=\"dataframe\">\n",
       "  <thead>\n",
       "    <tr style=\"text-align: right;\">\n",
       "      <th></th>\n",
       "      <th>League_NL</th>\n",
       "      <th>W_norm</th>\n",
       "    </tr>\n",
       "  </thead>\n",
       "  <tbody>\n",
       "    <tr>\n",
       "      <th>372</th>\n",
       "      <td>1</td>\n",
       "      <td>0.444444</td>\n",
       "    </tr>\n",
       "    <tr>\n",
       "      <th>371</th>\n",
       "      <td>1</td>\n",
       "      <td>0.490683</td>\n",
       "    </tr>\n",
       "    <tr>\n",
       "      <th>370</th>\n",
       "      <td>0</td>\n",
       "      <td>0.487654</td>\n",
       "    </tr>\n",
       "    <tr>\n",
       "      <th>369</th>\n",
       "      <td>1</td>\n",
       "      <td>0.506173</td>\n",
       "    </tr>\n",
       "    <tr>\n",
       "      <th>368</th>\n",
       "      <td>0</td>\n",
       "      <td>0.555556</td>\n",
       "    </tr>\n",
       "    <tr>\n",
       "      <th>...</th>\n",
       "      <td>...</td>\n",
       "      <td>...</td>\n",
       "    </tr>\n",
       "    <tr>\n",
       "      <th>78</th>\n",
       "      <td>0</td>\n",
       "      <td>0.586420</td>\n",
       "    </tr>\n",
       "    <tr>\n",
       "      <th>77</th>\n",
       "      <td>1</td>\n",
       "      <td>0.487654</td>\n",
       "    </tr>\n",
       "    <tr>\n",
       "      <th>76</th>\n",
       "      <td>0</td>\n",
       "      <td>0.580247</td>\n",
       "    </tr>\n",
       "    <tr>\n",
       "      <th>82</th>\n",
       "      <td>1</td>\n",
       "      <td>0.555556</td>\n",
       "    </tr>\n",
       "    <tr>\n",
       "      <th>74</th>\n",
       "      <td>1</td>\n",
       "      <td>0.493827</td>\n",
       "    </tr>\n",
       "  </tbody>\n",
       "</table>\n",
       "<p>330 rows × 2 columns</p>\n",
       "</div>"
      ],
      "text/plain": [
       "     League_NL    W_norm\n",
       "372          1  0.444444\n",
       "371          1  0.490683\n",
       "370          0  0.487654\n",
       "369          1  0.506173\n",
       "368          0  0.555556\n",
       "..         ...       ...\n",
       "78           0  0.586420\n",
       "77           1  0.487654\n",
       "76           0  0.580247\n",
       "82           1  0.555556\n",
       "74           1  0.493827\n",
       "\n",
       "[330 rows x 2 columns]"
      ]
     },
     "execution_count": 28,
     "metadata": {},
     "output_type": "execute_result"
    }
   ],
   "source": [
    "X_train_base = df_base_train[['League_NL', 'W_norm']]\n",
    "X_train_base"
   ]
  },
  {
   "cell_type": "code",
   "execution_count": 29,
   "metadata": {
    "colab": {
     "base_uri": "https://localhost:8080/"
    },
    "id": "OFWp2NNapXZO",
    "outputId": "5e3d2054-2005-4c96-8f6a-228918f1c3da"
   },
   "outputs": [
    {
     "data": {
      "text/plain": [
       "372    False\n",
       "371    False\n",
       "370    False\n",
       "369    False\n",
       "368    False\n",
       "       ...  \n",
       "78      True\n",
       "77     False\n",
       "76      True\n",
       "82      True\n",
       "74     False\n",
       "Length: 330, dtype: bool"
      ]
     },
     "execution_count": 29,
     "metadata": {},
     "output_type": "execute_result"
    }
   ],
   "source": [
    "threshold = 0.5\n",
    "Y_pred_train_base = reg_log_b_train.predict(X_train_base) >= threshold\n",
    "Y_pred_train_base"
   ]
  },
  {
   "cell_type": "code",
   "execution_count": 30,
   "metadata": {
    "colab": {
     "base_uri": "https://localhost:8080/"
    },
    "id": "g5Sr6QuZpqyB",
    "outputId": "d56fc545-844a-4c77-de6f-90d1e060d902"
   },
   "outputs": [
    {
     "data": {
      "text/plain": [
       "0.8409090909090909"
      ]
     },
     "execution_count": 30,
     "metadata": {},
     "output_type": "execute_result"
    }
   ],
   "source": [
    "#recall\n",
    "recall_score(Y_train_base, Y_pred_train_base)"
   ]
  },
  {
   "cell_type": "code",
   "execution_count": 31,
   "metadata": {
    "colab": {
     "base_uri": "https://localhost:8080/"
    },
    "id": "QYuh16xLqAyS",
    "outputId": "73293a2c-d87a-4531-cd67-4b0ddc4a011f"
   },
   "outputs": [
    {
     "data": {
      "text/plain": [
       "0.8705882352941177"
      ]
     },
     "execution_count": 31,
     "metadata": {},
     "output_type": "execute_result"
    }
   ],
   "source": [
    "#precision queremos alta acurácia e precisão\n",
    "precision_score(Y_train_base, Y_pred_train_base)"
   ]
  },
  {
   "cell_type": "code",
   "execution_count": 32,
   "metadata": {
    "colab": {
     "base_uri": "https://localhost:8080/"
    },
    "id": "gmPUWXsFQOXP",
    "outputId": "5d4a06a9-46cd-4a55-9fe0-8f260097c8d4"
   },
   "outputs": [
    {
     "data": {
      "text/plain": [
       "0.9242424242424242"
      ]
     },
     "execution_count": 32,
     "metadata": {},
     "output_type": "execute_result"
    }
   ],
   "source": [
    "accuracy_score(Y_train_base, Y_pred_train_base)"
   ]
  },
  {
   "cell_type": "code",
   "execution_count": 33,
   "metadata": {
    "id": "jlptPHAxqMhi"
   },
   "outputs": [],
   "source": [
    "thresholds = np.arange(0, 1, 0.01)\n"
   ]
  },
  {
   "cell_type": "code",
   "execution_count": 34,
   "metadata": {
    "id": "S3DsVbUCvVGM"
   },
   "outputs": [],
   "source": [
    "Y_previsoes = reg_log_b_train.predict(X_train_base)"
   ]
  },
  {
   "cell_type": "code",
   "execution_count": 35,
   "metadata": {
    "id": "QZykUPOgqXsU"
   },
   "outputs": [],
   "source": [
    "recall = []\n",
    "precision = []"
   ]
  },
  {
   "cell_type": "code",
   "execution_count": 36,
   "metadata": {
    "id": "e1XPjzhpqfSH"
   },
   "outputs": [],
   "source": [
    "for i in thresholds:\n",
    "    Y_predict_bool_aux = Y_previsoes >= i\n",
    "    recall.append(recall_score(Y_train_base, Y_predict_bool_aux))\n",
    "    precision.append(precision_score(Y_train_base, Y_predict_bool_aux))"
   ]
  },
  {
   "cell_type": "code",
   "execution_count": 37,
   "metadata": {
    "colab": {
     "base_uri": "https://localhost:8080/",
     "height": 279
    },
    "id": "rRHOvP91q9Ag",
    "outputId": "e65b40b8-952e-4d61-8627-9b69d9f6684e"
   },
   "outputs": [
    {
     "data": {
      "image/png": "[encoded data removed]",
      "text/plain": [
       "<Figure size 432x288 with 1 Axes>"
      ]
     },
     "metadata": {
      "needs_background": "light"
     },
     "output_type": "display_data"
    }
   ],
   "source": [
    "plt.scatter(thresholds, recall, label='Recall Train')\n",
    "plt.scatter(thresholds, precision,label='Precision Train')\n",
    "plt.xlabel('Threshold')\n",
    "plt.legend()\n",
    "plt.show()"
   ]
  },
  {
   "cell_type": "code",
   "execution_count": 54,
   "metadata": {
    "id": "w2n9bhtQrH5B"
   },
   "outputs": [],
   "source": [
    "#regressão no sklearn\n",
    "reg_log_b_train_sk = LogisticRegression(fit_intercept=True, max_iter=200, class_weight='balanced')\n",
    "\n",
    "reg_log_b_train_sk.fit(X_train_base, Y_train_base)\n",
    "Y_pred_train_base_sk = reg_log_b_train_sk.predict(X_train_base)"
   ]
  },
  {
   "cell_type": "code",
   "execution_count": 55,
   "metadata": {
    "id": "hGHQOcwwxNGB"
   },
   "outputs": [],
   "source": [
    "prob_playoff = reg_log_b_train_sk.predict_proba(X_train_base)[:, 1]\n",
    "false_positive_rate_values, sensitivity_values, thresholds = roc_curve(Y_train_base, prob_playoff, pos_label=1)"
   ]
  },
  {
   "cell_type": "code",
   "execution_count": 56,
   "metadata": {
    "colab": {
     "base_uri": "https://localhost:8080/",
     "height": 312
    },
    "id": "loz9VyXayYwN",
    "outputId": "665b768d-fb7a-4504-c223-05e7d653835c"
   },
   "outputs": [
    {
     "data": {
      "text/plain": [
       "Text(0.5, 1.0, 'prob_playoff_model ROC Curve')"
      ]
     },
     "execution_count": 56,
     "metadata": {},
     "output_type": "execute_result"
    },
    {
     "data": {
      "image/png": "[encoded data removed]",
      "text/plain": [
       "<Figure size 432x288 with 1 Axes>"
      ]
     },
     "metadata": {
      "needs_background": "light"
     },
     "output_type": "display_data"
    }
   ],
   "source": [
    "plt.fill_between(false_positive_rate_values, sensitivity_values, step='post', alpha=0.2,color='b')\n",
    "\n",
    "plt.xlabel('False Positive Rate (1 - Specificity ou Recall)')\n",
    "plt.ylabel('Sensitivity ou Recall')\n",
    "plt.title('prob_playoff_model ROC Curve')"
   ]
  },
  {
   "cell_type": "code",
   "execution_count": 57,
   "metadata": {
    "colab": {
     "base_uri": "https://localhost:8080/"
    },
    "id": "nhp_Epmbtxll",
    "outputId": "4aad5463-0382-4711-fc72-1befcbe1105e"
   },
   "outputs": [
    {
     "data": {
      "text/plain": [
       "0.9649934259954921"
      ]
     },
     "execution_count": 57,
     "metadata": {},
     "output_type": "execute_result"
    }
   ],
   "source": [
    "roc_auc_score(Y_train_base, prob_playoff)"
   ]
  },
  {
   "cell_type": "markdown",
   "metadata": {
    "id": "4QHmc7CQu4TM"
   },
   "source": [
    "AUC é interpretada como a probabilidade do classificador atribuir uma probabilidade maior para dado escolhido aleatoriamente que pertence de verdade para a classe positiva que um dado escolhido aleatoriamente da classe negativa. O valor 0.96 significa que 95,9% das vezes é mais provável do modelo classificar um time que vai para o playoff ir para o playoff do que um time que não vai para playoff ir para o playoff"
   ]
  },
  {
   "cell_type": "code",
   "execution_count": 58,
   "metadata": {
    "id": "i9cmk8l08kpw"
   },
   "outputs": [],
   "source": [
    "#matriz de confusão do treino(modelo)"
   ]
  },
  {
   "cell_type": "code",
   "execution_count": 59,
   "metadata": {
    "id": "Exf34Efa5GUU"
   },
   "outputs": [],
   "source": [
    "def plot_confusion_matrix(cm, classes,\n",
    "                          normalize=False,\n",
    "                          title='Confusion matrix',\n",
    "                          cmap=plt.cm.Blues):\n",
    "    \"\"\"\n",
    "    This function prints and plots the confusion matrix.\n",
    "    Normalization can be applied by setting `normalize=True`.\n",
    "    \"\"\"\n",
    "    import itertools\n",
    "    if normalize:\n",
    "        cm = cm.astype('float') / cm.sum(axis=1)[:, np.newaxis]\n",
    "#         print(\"Normalized confusion matrix\")\n",
    "#     else:\n",
    "#         print('Confusion matrix, without normalization')\n",
    "\n",
    "#     print(cm)\n",
    "\n",
    "    plt.imshow(cm, interpolation='nearest', cmap=cmap)\n",
    "    plt.title(title)\n",
    "    plt.colorbar()\n",
    "    tick_marks = np.arange(len(classes))\n",
    "    plt.xticks(tick_marks, classes, rotation=45)\n",
    "    plt.yticks(tick_marks, classes)\n",
    "\n",
    "    fmt = '.2f' if normalize else 'd'\n",
    "    thresh = cm.max() / 2.\n",
    "    for i, j in itertools.product(range(cm.shape[0]), range(cm.shape[1])):\n",
    "        plt.text(j, i, format(cm[i, j], fmt),\n",
    "                 horizontalalignment=\"center\",\n",
    "                 color=\"white\" if cm[i, j] > thresh else \"black\")\n",
    "\n",
    "    plt.tight_layout()\n",
    "    plt.ylabel('True label')\n",
    "    plt.xlabel('Predicted label')\n",
    "    plt.grid(False)\n",
    "\n",
    "#words_list_model_y_pred = words_list_model.predict(X_train)\n",
    "Y_pred_train_base_sk\n",
    "\n",
    "from sklearn.metrics import confusion_matrix\n",
    "\n",
    "class_names = ['Playoff', 'Not Playoff']"
   ]
  },
  {
   "cell_type": "code",
   "execution_count": 60,
   "metadata": {
    "colab": {
     "base_uri": "https://localhost:8080/",
     "height": 311
    },
    "id": "yC2EXWd0zkIG",
    "outputId": "9f84b1c6-7bc3-439d-8db5-a1dd8790f120"
   },
   "outputs": [
    {
     "data": {
      "image/png": "[encoded data removed]",
      "text/plain": [
       "<Figure size 432x288 with 2 Axes>"
      ]
     },
     "metadata": {
      "needs_background": "light"
     },
     "output_type": "display_data"
    }
   ],
   "source": [
    "#matriz de confusão treino(modelo)\n",
    "\n",
    "matriz_conf_train = confusion_matrix(Y_train_base, Y_pred_train_base_sk,  labels=[1, 0])\n",
    "plot_confusion_matrix(matriz_conf_train, classes=class_names,\n",
    "                      title='Playoff_model Confusion Matrix')\n",
    "#interpretação predicted label diz se é N ou P. O true label diz se é F(sinais !=s) ou T (sinais =s)\n",
    "#TP = 84, FN = 4 FP = 42  TN = 200\n",
    "# recall =  TP /(TP+FN), precision = TP /(TP+FP)\n"
   ]
  },
  {
   "cell_type": "code",
   "execution_count": 61,
   "metadata": {
    "colab": {
     "base_uri": "https://localhost:8080/"
    },
    "id": "dnd7MJ3o0CDm",
    "outputId": "6bc56473-1689-4b3d-aae5-d8114cb405e0"
   },
   "outputs": [
    {
     "data": {
      "text/plain": [
       "array([[ 84,   4],\n",
       "       [ 42, 200]], dtype=int64)"
      ]
     },
     "execution_count": 61,
     "metadata": {},
     "output_type": "execute_result"
    }
   ],
   "source": [
    "matriz_conf_train #idem acima\n",
    "#returns : Confusion matrix whose i-th row and j-th column entry indicates the number of samples with true label being i-th class and predicted label being j-th class"
   ]
  },
  {
   "cell_type": "code",
   "execution_count": 62,
   "metadata": {
    "colab": {
     "base_uri": "https://localhost:8080/"
    },
    "id": "qc8E-33mgevQ",
    "outputId": "0637c4dc-f630-4fcb-c28b-cf3f9fd4d6e3"
   },
   "outputs": [
    {
     "name": "stdout",
     "output_type": "stream",
     "text": [
      "0.9545454545454546\n"
     ]
    },
    {
     "data": {
      "text/plain": [
       "0.9545454545454546"
      ]
     },
     "execution_count": 62,
     "metadata": {},
     "output_type": "execute_result"
    }
   ],
   "source": [
    "print(recall_score(Y_train_base, Y_pred_train_base_sk))\n",
    "# recall =  TP /(TP+FN)\n",
    "matriz_conf_train[0,0]/(matriz_conf_train[0,0] + matriz_conf_train[0,1])"
   ]
  },
  {
   "cell_type": "code",
   "execution_count": 63,
   "metadata": {
    "colab": {
     "base_uri": "https://localhost:8080/"
    },
    "id": "fcAmgDZshBAk",
    "outputId": "17f5d64f-b8f1-4c63-8a19-948a274f2c09"
   },
   "outputs": [
    {
     "name": "stdout",
     "output_type": "stream",
     "text": [
      "0.6666666666666666\n"
     ]
    },
    {
     "data": {
      "text/plain": [
       "0.6666666666666666"
      ]
     },
     "execution_count": 63,
     "metadata": {},
     "output_type": "execute_result"
    }
   ],
   "source": [
    "print(precision_score(Y_train_base, Y_pred_train_base_sk))\n",
    "#precision = TP /(TP+FP)\n",
    "matriz_conf_train[0,0]/(matriz_conf_train[0,0] + matriz_conf_train[1,0])"
   ]
  },
  {
   "cell_type": "code",
   "execution_count": 64,
   "metadata": {
    "colab": {
     "base_uri": "https://localhost:8080/"
    },
    "id": "TpTP_XRf9CJ3",
    "outputId": "fc2ed888-4f21-480c-98d6-ca2fb49649cb"
   },
   "outputs": [
    {
     "name": "stdout",
     "output_type": "stream",
     "text": [
      "0.8606060606060606\n"
     ]
    }
   ],
   "source": [
    "print(accuracy_score(Y_train_base, Y_pred_train_base_sk))\n"
   ]
  },
  {
   "cell_type": "code",
   "execution_count": 65,
   "metadata": {
    "id": "ahYX8EyV62xt"
   },
   "outputs": [],
   "source": [
    "#Preparo dos dados do teste\n",
    "\n",
    "X_test_base = df_base_test[['League_NL', 'W_norm']]\n",
    "Y_pred_test_base_sk = reg_log_b_train_sk.predict(X_test_base)\n",
    "Y_test_base = df_base_test['Playoffs']"
   ]
  },
  {
   "cell_type": "code",
   "execution_count": 66,
   "metadata": {
    "colab": {
     "base_uri": "https://localhost:8080/",
     "height": 311
    },
    "id": "GTWkyhoq80uH",
    "outputId": "688e7ba5-f5a1-40eb-f14e-ea935fd2d7c4"
   },
   "outputs": [
    {
     "data": {
      "image/png": "[encoded data removed]",
      "text/plain": [
       "<Figure size 432x288 with 2 Axes>"
      ]
     },
     "metadata": {
      "needs_background": "light"
     },
     "output_type": "display_data"
    }
   ],
   "source": [
    "#matriz de confusão do teste\n",
    "\n",
    "matriz_conf_test = confusion_matrix(Y_test_base, Y_pred_test_base_sk,  labels=[1, 0])\n",
    "plot_confusion_matrix(matriz_conf_test, classes=class_names,\n",
    "                      title='Playoff_test Confusion Matrix')"
   ]
  },
  {
   "cell_type": "code",
   "execution_count": 68,
   "metadata": {
    "colab": {
     "base_uri": "https://localhost:8080/"
    },
    "id": "qpw5fHqd63UO",
    "outputId": "cf0f7a3b-7710-4557-a2e4-b12d43d62db3"
   },
   "outputs": [
    {
     "data": {
      "text/plain": [
       "array([[18,  0],\n",
       "       [ 6, 36]], dtype=int64)"
      ]
     },
     "execution_count": 68,
     "metadata": {},
     "output_type": "execute_result"
    }
   ],
   "source": [
    "matriz_conf_test = confusion_matrix(Y_test_base, Y_pred_test_base_sk,  labels=[1, 0])\n",
    "matriz_conf_test"
   ]
  },
  {
   "cell_type": "code",
   "execution_count": 69,
   "metadata": {
    "colab": {
     "base_uri": "https://localhost:8080/"
    },
    "id": "Z0S9oP8V8fSd",
    "outputId": "db4160ce-4991-40e4-b226-d7f749f21da1"
   },
   "outputs": [
    {
     "name": "stdout",
     "output_type": "stream",
     "text": [
      "1.0\n"
     ]
    },
    {
     "data": {
      "text/plain": [
       "1.0"
      ]
     },
     "execution_count": 69,
     "metadata": {},
     "output_type": "execute_result"
    }
   ],
   "source": [
    "print(recall_score(Y_test_base, Y_pred_test_base_sk))\n",
    "# recall =  TP /(TP+FN)\n",
    "matriz_conf_test[0,0]/(matriz_conf_test[0,0] + matriz_conf_test[0,1])"
   ]
  },
  {
   "cell_type": "code",
   "execution_count": 70,
   "metadata": {
    "colab": {
     "base_uri": "https://localhost:8080/"
    },
    "id": "_L-ta7_bGj_y",
    "outputId": "798f88c7-bc87-48d6-e61a-5cc1908b8876"
   },
   "outputs": [
    {
     "data": {
      "text/plain": [
       "0.8571428571428571"
      ]
     },
     "execution_count": 70,
     "metadata": {},
     "output_type": "execute_result"
    }
   ],
   "source": [
    "#Especificidade \n",
    "matriz_conf_test[1,1]/(matriz_conf_test[1,1] + matriz_conf_test[1,0])"
   ]
  },
  {
   "cell_type": "code",
   "execution_count": 71,
   "metadata": {
    "colab": {
     "base_uri": "https://localhost:8080/"
    },
    "id": "TgbUZGK78spU",
    "outputId": "1732a4cf-463b-4b84-daa1-8e424dee5202"
   },
   "outputs": [
    {
     "name": "stdout",
     "output_type": "stream",
     "text": [
      "0.75\n"
     ]
    },
    {
     "data": {
      "text/plain": [
       "0.75"
      ]
     },
     "execution_count": 71,
     "metadata": {},
     "output_type": "execute_result"
    }
   ],
   "source": [
    "print(precision_score(Y_test_base, Y_pred_test_base_sk))\n",
    "#precision = TP /(TP+FP)\n",
    "matriz_conf_test[0,0]/(matriz_conf_test[0,0] + matriz_conf_test[1,0])"
   ]
  },
  {
   "cell_type": "code",
   "execution_count": 72,
   "metadata": {
    "colab": {
     "base_uri": "https://localhost:8080/"
    },
    "id": "iABnwuxeBESq",
    "outputId": "de07657f-cb04-4382-9ac2-567855da48ae"
   },
   "outputs": [
    {
     "name": "stdout",
     "output_type": "stream",
     "text": [
      "0.9\n"
     ]
    },
    {
     "data": {
      "text/plain": [
       "0.9"
      ]
     },
     "execution_count": 72,
     "metadata": {},
     "output_type": "execute_result"
    }
   ],
   "source": [
    "print(accuracy_score(Y_test_base, Y_pred_test_base_sk))\n",
    "#accuracy = TP+ TN /(TP+FP + TN + FN)\n",
    "(matriz_conf_test[0,0] + matriz_conf_test[1,1]) /(matriz_conf_test[0,0] + matriz_conf_test[0,1] + matriz_conf_test[1,0] + matriz_conf_test[1,1])"
   ]
  },
  {
   "cell_type": "code",
   "execution_count": null,
   "metadata": {},
   "outputs": [],
   "source": []
  }
 ],
 "metadata": {
  "colab": {
   "collapsed_sections": [],
   "name": "Baseball_playoff.ipynb",
   "provenance": []
  },
  "kernelspec": {
   "display_name": "Python 3",
   "language": "python",
   "name": "python3"
  },
  "language_info": {
   "codemirror_mode": {
    "name": "ipython",
    "version": 3
   },
   "file_extension": ".py",
   "mimetype": "text/x-python",
   "name": "python",
   "nbconvert_exporter": "python",
   "pygments_lexer": "ipython3",
   "version": "3.7.6"
  }
 },
 "nbformat": 4,
 "nbformat_minor": 1
}
